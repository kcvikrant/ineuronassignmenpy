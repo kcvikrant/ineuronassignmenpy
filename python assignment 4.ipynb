{
 "cells": [
  {
   "cell_type": "code",
   "execution_count": 6,
   "metadata": {},
   "outputs": [],
   "source": [
    "class Triangle():\n",
    "    def __init__(self):\n",
    "        no_of_sides = ['a','b','c']\n",
    "        self.TriangleSides = no_of_sides\n",
    "        \n",
    "    def side_of_Triangle(self):\n",
    "        self.sides_of_Triangle =[input(\"enter side\" + i+\":\") for i in self.TriangleSides]\n",
    "    \n",
    "class Triangle_Area(Triangle):\n",
    "    def __init__(self):\n",
    "        Triangle.__init__(self)\n",
    "        \n",
    "    def area_of_Triangle(self):\n",
    "        trianglesides = iter(self.sides_of_Triangle)\n",
    "        a = float(next(trianglesides))\n",
    "        b = float(next(trianglesides))\n",
    "        c = float(next(trianglesides))\n",
    "            \n",
    "        s = (a+b+c)*0.5\n",
    "        area = (s*(s-a)*(s-b)*(s-c))**0.5\n",
    "        area = ('the area %0.2f' %area)\n",
    "        print(area)"
   ]
  },
  {
   "cell_type": "code",
   "execution_count": 7,
   "metadata": {},
   "outputs": [],
   "source": [
    "area = Triangle_Area()"
   ]
  },
  {
   "cell_type": "code",
   "execution_count": 8,
   "metadata": {},
   "outputs": [
    {
     "name": "stdout",
     "output_type": "stream",
     "text": [
      "enter sidea:35\n",
      "enter sideb:24\n",
      "enter sidec:26\n"
     ]
    }
   ],
   "source": [
    "area.side_of_Triangle()"
   ]
  },
  {
   "cell_type": "code",
   "execution_count": 9,
   "metadata": {},
   "outputs": [
    {
     "name": "stdout",
     "output_type": "stream",
     "text": [
      "the area 311.93\n"
     ]
    }
   ],
   "source": [
    "area.area_of_Triangle()"
   ]
  },
  {
   "cell_type": "code",
   "execution_count": 1,
   "metadata": {},
   "outputs": [
    {
     "name": "stdout",
     "output_type": "stream",
     "text": [
      "enter the words:mahal,bhopal,city,ajmer\n",
      "pls enter your number:3\n"
     ]
    },
    {
     "data": {
      "text/plain": [
       "['mahal', 'bhopal', 'city', 'ajmer']"
      ]
     },
     "execution_count": 1,
     "metadata": {},
     "output_type": "execute_result"
    }
   ],
   "source": [
    "#solution 2\n",
    "def filter_long_words(wordlist,n):\n",
    "    wordlist = [x.strip() for x in wordlist if len(x.strip())>n]\n",
    "    if(len(wordlist)>0):\n",
    "        return wordlist\n",
    "    else:\n",
    "        return \"no word\"\n",
    "        \n",
    "\n",
    "##user input\n",
    "string = input(\"enter the words:\")\n",
    "num = int(input(\"pls enter your number:\"))\n",
    "\n",
    "list_of_word = list(string.split(\",\"))\n",
    "##function execution \n",
    "filter_long_words(list_of_word,num)\n"
   ]
  },
  {
   "cell_type": "code",
   "execution_count": 3,
   "metadata": {},
   "outputs": [
    {
     "name": "stdout",
     "output_type": "stream",
     "text": [
      "input:enter word:ab,cde,ery\n",
      "output: [2, 3, 3]\n"
     ]
    }
   ],
   "source": [
    "##SOLUTION 3 \n",
    "def map_word_to_length(List):\n",
    "    return list(map(len,List))\n",
    "\n",
    "word_list = list(input(\"input:enter word:\").split(\",\"))\n",
    "\n",
    "##list comprehension has been done to remove white trailing white space\n",
    "List = [x.strip() for x in word_list]\n",
    "\n",
    "word_length = map_word_to_length(List)\n",
    "\n",
    "print(\"output:\",word_length)"
   ]
  },
  {
   "cell_type": "code",
   "execution_count": 6,
   "metadata": {},
   "outputs": [
    {
     "name": "stdout",
     "output_type": "stream",
     "text": [
      "input value:B\n",
      "output: False\n"
     ]
    }
   ],
   "source": [
    "##solution 4\n",
    "def vowel_checker(inputchar):\n",
    "    if(len(inputchar)==1):\n",
    "        vowels = ['a','e','i','o','u']\n",
    "        if(inputchar.lower() in vowels):\n",
    "            return True\n",
    "        else:\n",
    "            return False\n",
    "    else:\n",
    "        return(\"pls enter single char only\")\n",
    "input_value = input(\"input value:\")\n",
    "output_value = vowel_checker(input_value)\n",
    "print(\"output:\",output_value)\n"
   ]
  }
 ],
 "metadata": {
  "kernelspec": {
   "display_name": "Python 3",
   "language": "python",
   "name": "python3"
  },
  "language_info": {
   "codemirror_mode": {
    "name": "ipython",
    "version": 3
   },
   "file_extension": ".py",
   "mimetype": "text/x-python",
   "name": "python",
   "nbconvert_exporter": "python",
   "pygments_lexer": "ipython3",
   "version": "3.8.2"
  }
 },
 "nbformat": 4,
 "nbformat_minor": 4
}
